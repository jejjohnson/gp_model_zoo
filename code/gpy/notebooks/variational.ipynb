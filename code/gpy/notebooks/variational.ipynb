{
 "cells": [
  {
   "cell_type": "markdown",
   "metadata": {},
   "source": [
    "# Variational GP"
   ]
  },
  {
   "cell_type": "code",
   "execution_count": 1,
   "metadata": {},
   "outputs": [],
   "source": [
    "import os, sys\n",
    "cwd = os.getcwd()\n",
    "parent_dir = os.path.dirname(cwd)\n",
    "sys.path.insert(0, parent_dir) \n",
    "\n",
    "import numpy as np\n",
    "from variational import SVGP, VGP\n",
    "import GPy\n",
    "import matplotlib.pyplot as plt\n",
    "\n",
    "%load_ext autoreload\n",
    "%autoreload 2"
   ]
  },
  {
   "cell_type": "code",
   "execution_count": 2,
   "metadata": {},
   "outputs": [],
   "source": [
    "rng = np.random.RandomState(0)\n",
    "\n",
    "# Generate sample data\n",
    "noise = 0.5\n",
    "n_train = 1_000\n",
    "n_test = 10_000\n",
    "X = 15 * rng.rand(n_train, 1)\n",
    "\n",
    "def f(x): return np.sin(x)\n",
    "\n",
    "y = f(X)\n",
    "y += 3 * (0.5 - rng.rand(X.shape[0], X.shape[1]))  # add noise\n",
    "X_plot = np.linspace(0, 20, n_test)[:, None]"
   ]
  },
  {
   "cell_type": "code",
   "execution_count": 3,
   "metadata": {},
   "outputs": [],
   "source": [
    "def plot_results():\n",
    "    # Plot results\n",
    "    plt.figure(figsize=(10, 5))\n",
    "    lw = 2\n",
    "    plt.scatter(X, y, c='k', label='data')\n",
    "    plt.plot(X_plot, np.sin(X_plot), color='navy', lw=lw, label='True')\n",
    "\n",
    "    plt.plot(X_plot, y_gpr, color='darkorange', lw=lw,\n",
    "             label='GPR' )\n",
    "    plt.fill_between(X_plot[:, 0], \n",
    "                     (y_gpr - y_std).squeeze(), \n",
    "                     (y_gpr + y_std).squeeze(), color='darkorange',\n",
    "                     alpha=0.2)\n",
    "    plt.xlabel('data')\n",
    "    plt.ylabel('target')\n",
    "    plt.xlim(0, 20)\n",
    "    plt.ylim(-4, 4)\n",
    "    plt.title('GPR versus Kernel Ridge')\n",
    "    plt.legend(loc=\"best\",  scatterpoints=1, prop={'size': 8})\n",
    "    plt.show()"
   ]
  },
  {
   "cell_type": "markdown",
   "metadata": {},
   "source": [
    "## Variational GP Model"
   ]
  },
  {
   "cell_type": "code",
   "execution_count": 5,
   "metadata": {},
   "outputs": [
    {
     "ename": "AttributeError",
     "evalue": "module 'GPy.models' has no attribute 'BayesianGPLVMMiniBatch'",
     "output_type": "error",
     "traceback": [
      "\u001b[0;31m---------------------------------------------------------------------------\u001b[0m",
      "\u001b[0;31mAttributeError\u001b[0m                            Traceback (most recent call last)",
      "\u001b[0;32m<ipython-input-5-14febbab3afa>\u001b[0m in \u001b[0;36m<module>\u001b[0;34m\u001b[0m\n\u001b[0;32m----> 1\u001b[0;31m \u001b[0mGPy\u001b[0m\u001b[0;34m.\u001b[0m\u001b[0mmodels\u001b[0m\u001b[0;34m.\u001b[0m\u001b[0mBayesianGPLVMMiniBatch\u001b[0m\u001b[0;34m\u001b[0m\u001b[0;34m\u001b[0m\u001b[0m\n\u001b[0m",
      "\u001b[0;31mAttributeError\u001b[0m: module 'GPy.models' has no attribute 'BayesianGPLVMMiniBatch'"
     ]
    }
   ],
   "source": [
    "GPy.models.BayesianGPLVM"
   ]
  },
  {
   "cell_type": "code",
   "execution_count": null,
   "metadata": {},
   "outputs": [],
   "source": [
    "n_restarts = 0\n",
    "max_iters  = 1_000\n",
    "verbose    = 1\n",
    "\n",
    "gpr_clf = VGP(\n",
    "    verbose=verbose,\n",
    "    n_restarts=n_restarts,\n",
    "    max_iters=max_iters,\n",
    ")\n",
    "\n",
    "gpr_clf.fit(X, y);"
   ]
  },
  {
   "cell_type": "code",
   "execution_count": null,
   "metadata": {},
   "outputs": [],
   "source": [
    "gpr_clf.display_model()"
   ]
  }
 ],
 "metadata": {
  "kernelspec": {
   "display_name": "Python [conda env:sci_py36]",
   "language": "python",
   "name": "conda-env-sci_py36-py"
  },
  "language_info": {
   "codemirror_mode": {
    "name": "ipython",
    "version": 3
   },
   "file_extension": ".py",
   "mimetype": "text/x-python",
   "name": "python",
   "nbconvert_exporter": "python",
   "pygments_lexer": "ipython3",
   "version": "3.6.8"
  }
 },
 "nbformat": 4,
 "nbformat_minor": 2
}
